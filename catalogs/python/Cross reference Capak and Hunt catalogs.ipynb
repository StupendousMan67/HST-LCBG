{
 "cells": [
  {
   "cell_type": "markdown",
   "metadata": {},
   "source": [
    "# Cross reference Capak and Hunt catalogs\n",
    "\n",
    "GDW / 2018apr12"
   ]
  },
  {
   "cell_type": "code",
   "execution_count": 1,
   "metadata": {
    "collapsed": true
   },
   "outputs": [],
   "source": [
    "%matplotlib inline\n",
    "\n",
    "from astropy.io import ascii    \n",
    "import numpy as np\n",
    "import matplotlib.pyplot as plt"
   ]
  },
  {
   "cell_type": "markdown",
   "metadata": {},
   "source": [
    "## Read COSMOS catalog"
   ]
  },
  {
   "cell_type": "code",
   "execution_count": 2,
   "metadata": {
    "collapsed": true
   },
   "outputs": [],
   "source": [
    "cosmos_infile = '../Capak/deimos_redshifts.tbl'"
   ]
  },
  {
   "cell_type": "code",
   "execution_count": 3,
   "metadata": {
    "collapsed": true
   },
   "outputs": [],
   "source": [
    "cosmos = ascii.read( cosmos_infile)"
   ]
  },
  {
   "cell_type": "code",
   "execution_count": 4,
   "metadata": {},
   "outputs": [
    {
     "data": {
      "text/plain": [
       "<Table masked=True length=10770>\n",
       "  name   dtype  n_bad\n",
       "------- ------- -----\n",
       "     ID    str8   216\n",
       "     ra float64     0\n",
       "    dec float64     0\n",
       "    sel   int64     0\n",
       "   imag float64   125\n",
       "   kmag float64   485\n",
       "  zspec float64  2240\n",
       "  Qflag   int64     0\n",
       "      Q float64     0\n",
       "Remarks   str70  3533"
      ]
     },
     "execution_count": 4,
     "metadata": {},
     "output_type": "execute_result"
    }
   ],
   "source": [
    "cosmos.info"
   ]
  },
  {
   "cell_type": "markdown",
   "metadata": {},
   "source": [
    "select cosmos targets in range 0.5<z<0.6"
   ]
  },
  {
   "cell_type": "code",
   "execution_count": 5,
   "metadata": {},
   "outputs": [
    {
     "name": "stdout",
     "output_type": "stream",
     "text": [
      "275\n"
     ]
    }
   ],
   "source": [
    "buf = np.where( (cosmos['Q'] == 2.0) & (cosmos['zspec'] > 0.5) & (cosmos['zspec'] < 0.6))\n",
    "good = buf[0]\n",
    "cosmos_good = cosmos[good]\n",
    "n = len(cosmos_good)\n",
    "print n"
   ]
  },
  {
   "cell_type": "code",
   "execution_count": 6,
   "metadata": {
    "collapsed": true
   },
   "outputs": [],
   "source": [
    "ra1  = np.array(cosmos_good['ra'])\n",
    "dec1 = np.array(cosmos_good['dec'])"
   ]
  },
  {
   "cell_type": "code",
   "execution_count": 7,
   "metadata": {},
   "outputs": [
    {
     "data": {
      "text/plain": [
       "<matplotlib.text.Text at 0x113a41810>"
      ]
     },
     "execution_count": 7,
     "metadata": {},
     "output_type": "execute_result"
    },
    {
     "data": {
      "image/png": "[encoded data removed]",
      "text/plain": [
       "<matplotlib.figure.Figure at 0x1127982d0>"
      ]
     },
     "metadata": {},
     "output_type": "display_data"
    }
   ],
   "source": [
    "plt.figure(figsize=(14,8))\n",
    "plt.plot( ra1, dec1, 'r.')\n",
    "plt.xlabel( \"RA\")\n",
    "plt.ylabel( \"Dec\")"
   ]
  },
  {
   "cell_type": "markdown",
   "metadata": {},
   "source": [
    "## Read Lucas's Catalog"
   ]
  },
  {
   "cell_type": "code",
   "execution_count": 8,
   "metadata": {
    "collapsed": true
   },
   "outputs": [],
   "source": [
    "infile = '../COSMOS_LCBG_CATALOG/COSMOS_LAMBDAR_CATALOG.csv'\n",
    "data = ascii.read( infile, format='csv', guess=False)"
   ]
  },
  {
   "cell_type": "code",
   "execution_count": 24,
   "metadata": {},
   "outputs": [
    {
     "name": "stdout",
     "output_type": "stream",
     "text": [
      "602\n"
     ]
    }
   ],
   "source": [
    "buf = np.where( (data['SG_MASTER'] == 0) & (data['Z_BEST'] > 0.5) \n",
    "               & (data['Z_BEST'] < 0.6) & (data['Z_USE'] < 3) \n",
    "               & (data['LAMBDAR_COSMOS2015_sep'] < 0.8)\n",
    "              & ( data['is_LCBG'] == 1))\n",
    "good = buf[0]\n",
    "lcbg = data[good]\n",
    "print len(lcbg)"
   ]
  },
  {
   "cell_type": "code",
   "execution_count": 10,
   "metadata": {
    "collapsed": true
   },
   "outputs": [],
   "source": [
    "ra2  = np.array(lcbg['RA'])\n",
    "dec2 = np.array(lcbg['DEC'])"
   ]
  },
  {
   "cell_type": "code",
   "execution_count": 11,
   "metadata": {},
   "outputs": [
    {
     "data": {
      "text/plain": [
       "<matplotlib.text.Text at 0x1137f6110>"
      ]
     },
     "execution_count": 11,
     "metadata": {},
     "output_type": "execute_result"
    },
    {
     "data": {
      "image/png": "[encoded data removed]",
      "text/plain": [
       "<matplotlib.figure.Figure at 0x10b01c550>"
      ]
     },
     "metadata": {},
     "output_type": "display_data"
    }
   ],
   "source": [
    "plt.figure(figsize=(14,8))\n",
    "plt.plot( ra2, dec2, 'b.' )\n",
    "plt.xlabel( \"RA\")\n",
    "plt.ylabel( \"Dec\")"
   ]
  },
  {
   "cell_type": "markdown",
   "metadata": {},
   "source": [
    "## Prepare to match catalogs"
   ]
  },
  {
   "cell_type": "code",
   "execution_count": 12,
   "metadata": {
    "collapsed": true
   },
   "outputs": [],
   "source": [
    "from astropy.coordinates import SkyCoord\n",
    "from astropy import units as u"
   ]
  },
  {
   "cell_type": "code",
   "execution_count": 13,
   "metadata": {
    "collapsed": true
   },
   "outputs": [],
   "source": [
    "c1 = SkyCoord(ra=ra1*u.degree, dec=dec1*u.degree)\n",
    "c2 = SkyCoord(ra=ra2*u.degree, dec=dec2*u.degree)"
   ]
  },
  {
   "cell_type": "code",
   "execution_count": 14,
   "metadata": {
    "collapsed": true
   },
   "outputs": [],
   "source": [
    "idx, d2d, d3d = c2.match_to_catalog_sky(c1)"
   ]
  },
  {
   "cell_type": "code",
   "execution_count": 15,
   "metadata": {},
   "outputs": [
    {
     "name": "stdout",
     "output_type": "stream",
     "text": [
      "602\n",
      "[226  11  70  94 256 162 153 124  62 131 184 215 215 271 261 261  23 244\n",
      "   3 237 252  14  14 126 155  11  73  32  32 202   8  88 204 225 177  32\n",
      " 152  11  15  16  25  25  95  95  95  81  67  94  65  67  65 148 122 145\n",
      " 158 125 182 182 182 182 225 225   7  22   7  12  12   7  12  11  11  22\n",
      "  34  22  22  22  50  38  44 104 104  92  86  86  50  86 141 129 118 156\n",
      " 104 127 127 153 162 153 143 148 202 202 202 184 184 202 184 195 195 195\n",
      " 177 195 195 254 240 240 254 240 203 262 203 249 249 236 236 236 258 258\n",
      " 262 256 256   1   8   8   8   8   8  32  12  32  23  23  32  32  32  32\n",
      "  62 111 151 151 151 208 154 154 215 184 184 151 184 202 253 208 253 215\n",
      " 215 261 250 227 227 234 227 253 253 261 261 265 265 268 268 254 268   8\n",
      "   5   5   8   8   8   8   8   8   8  23  23  23  23  23  74  74  23  23\n",
      "  74  74  72 116 116 116 139 181 164 181 206 181 206 175 175 181 247 224\n",
      " 242 246 212 246 253 219 270 263 263 260   3   3  17  17   5  17  17  17\n",
      "  17  17  53  17  53  88  88  88 149 149 149 149 149 168 204 171 181 226\n",
      " 226 252 232 230 230 230 241 231 252 252 260 260 260  45  42  42  69  69\n",
      "  66  89 159 140 140 166 135 150 150 188 188 166 176 176 222  15  15  16\n",
      "  51  71  65 225   7  34  22  22  46  22  86  86  86 162 106 195 195 202\n",
      " 240 236 258   8   7  32  72  91  41 112 151 184 261 227 250 261  23   8\n",
      "   8   8   8   8  74 206 246 244 244 228 224 260 259 259 253   3  17  23\n",
      " 218 204 241 210 252 266  14  14  24  29  31  45 159 135 126 135 140 135\n",
      " 135 150 160 165 188 179 193 167 248 222 255 255  95  12   7  25 136   8\n",
      " 260 241  14 266  71 182 161 225 256   7  46  38  38  54 124 124 177 195\n",
      " 262   1  62  72  75 102 144 215 202 261  23  23 116 181 244   8   3  17\n",
      "   5  53  17  88 181 226 241 241  14  14  14  30  30  31  14  89  66 147\n",
      " 140 103 140 103 173 197 166 193 229 248  11  11  11  11 106  22  22  12\n",
      "  11  44  38  38  25  37  59 141 143 138 137   7  32  62  62 215 175 215\n",
      " 227 234 261   5   8   8  74 116 164 139 116 139 175 164 175 208 244 212\n",
      "  17  42  23  88  88  53 116 204 204 204 181 226 241  42  89  64  88 159\n",
      " 140 155 150 173 173 165 189 178 222 222  15  25 225 256  11 156 120 234\n",
      " 249 262 253 164 270 263  56  53 200 191  45 188 179 222 200  11  25 158\n",
      " 256  12  12  11  22  54 127 156 195 182   1   8  12   7  12  32  34  62\n",
      "  41 111 154 154 144 151 215 265   8   8  23  74 132 116 164 206 246   3\n",
      "  17  23  56  53  53  88 149 116 116 171 209  18  14  14  14  69  64  89\n",
      "  66 160 140 166 150 150 179 197]\n"
     ]
    }
   ],
   "source": [
    "print len(idx)\n",
    "print idx"
   ]
  },
  {
   "cell_type": "code",
   "execution_count": 16,
   "metadata": {},
   "outputs": [
    {
     "name": "stdout",
     "output_type": "stream",
     "text": [
      "[u'0d01m29.2487s' u'0d04m03.2186s' u'0d00m00.1002s' u'0d01m09.1933s'\n",
      " u'0d03m52.257s' u'0d00m06.1914s' u'0d01m46.484s' u'0d00m22.5252s'\n",
      " u'0d03m51.8105s' u'0d01m21.6457s' u'0d04m16.4742s' u'0d01m54.2696s'\n",
      " u'0d03m39.7629s' u'0d04m56.8823s' u'0d04m25.5713s' u'0d02m01.7006s'\n",
      " u'0d02m15.5126s' u'0d01m29.2487s' u'0d03m20.2393s' u'0d00m59.5497s'\n",
      " u'0d01m55.6375s' u'0d04m42.3435s' u'0d00m17.1327s' u'0d01m07.7053s'\n",
      " u'0d01m18.7919s' u'0d05m08.8218s' u'0d02m15.5574s' u'0d06m58.0189s'\n",
      " u'0d05m17.5475s' u'0d02m05.4289s' u'0d05m01.9692s' u'0d04m49.6038s'\n",
      " u'0d01m13.3818s' u'0d01m24.6476s' u'0d02m07.3828s' u'0d03m15.3384s'\n",
      " u'0d00m55.5036s' u'0d05m16.6822s' u'0d03m00.34s' u'0d01m17.3208s'\n",
      " u'0d01m37.1591s' u'0d04m03.2384s' u'0d00m00.1125s' u'0d01m10.7101s'\n",
      " u'0d01m27.2953s' u'0d00m51.4947s' u'0d00m00.1392s' u'0d00m00.0783s'\n",
      " u'0d01m25.6425s' u'0d01m38.1932s' u'0d02m31.5027s' u'0d00m00.1371s'\n",
      " u'0d01m44.0133s' u'0d01m30.0582s' u'0d02m04.76s' u'0d01m32.1454s'\n",
      " u'0d03m08.8091s' u'0d02m51.0938s' u'0d03m37.549s' u'0d05m50.5145s'\n",
      " u'0d02m39.519s' u'0d03m25.7655s' u'0d03m11.4964s' u'0d05m02.0063s'\n",
      " u'0d02m26.4621s' u'0d04m04.5719s' u'0d00m00.2994s' u'0d00m52.9123s'\n",
      " u'0d01m24.8155s' u'0d00m30.6464s' u'0d01m34.8873s' u'0d06m26.8806s'\n",
      " u'0d00m23.0098s' u'0d03m03.4392s' u'0d02m42.6688s' u'0d02m28.7857s'\n",
      " u'0d01m44.2173s' u'0d00m53.58s' u'0d01m04.1081s' u'0d01m31.1102s'\n",
      " u'0d01m22.6515s' u'0d01m04.9899s' u'0d01m50.1098s' u'0d02m35.2562s'\n",
      " u'0d03m11.538s' u'0d01m36.7804s' u'0d00m23.9719s' u'0d02m11.7152s'\n",
      " u'0d00m35.3714s' u'0d01m21.4967s' u'0d01m12.4771s' u'0d01m35.734s'\n",
      " u'0d00m39.2608s' u'0d01m49.5413s' u'0d00m21.7482s' u'0d01m38.5697s'\n",
      " u'0d01m04.1601s' u'0d01m25.0097s' u'0d02m24.1407s' u'0d00m05.6785s'\n",
      " u'0d00m00.0912s' u'0d01m08.7893s' u'0d02m06.1514s' u'0d00m46.4228s'\n",
      " u'0d02m12.8652s' u'0d02m12.8161s' u'0d01m02.7668s' u'0d02m32.8268s'\n",
      " u'0d02m12.0867s' u'0d02m42.8504s' u'0d03m38.2386s' u'0d00m00.1089s'\n",
      " u'0d02m31.8515s' u'0d01m37.5099s' u'0d01m40.7562s' u'0d00m42.8s'\n",
      " u'0d02m38.6103s' u'0d02m41.2536s' u'0d01m23.8843s' u'0d02m26.1618s'\n",
      " u'0d01m28.3998s' u'0d00m49.0325s' u'0d03m20.7587s' u'0d03m44.7835s'\n",
      " u'0d02m14.1169s' u'0d00m55.5882s' u'0d03m17.3572s' u'0d01m07.7502s'\n",
      " u'0d01m20.8463s' u'0d06m41.098s' u'0d06m25.0649s' u'0d07m48.1522s'\n",
      " u'0d08m50.6201s' u'0d09m09.8276s' u'0d09m54.5776s' u'0d07m34.8445s'\n",
      " u'0d09m32.9211s' u'0d08m48.9297s' u'0d07m48.9074s' u'0d07m11.2101s'\n",
      " u'0d06m56.4914s' u'0d06m34.7085s' u'0d05m53.6698s' u'0d05m01.4036s'\n",
      " u'0d04m02.358s' u'0d00m47.9045s' u'0d00m00.1659s' u'0d00m35.0624s'\n",
      " u'0d01m34.7216s' u'0d05m13.2375s' u'0d03m48.1705s' u'0d04m06.9474s'\n",
      " u'0d03m19.3226s' u'0d05m31.4916s' u'0d04m30.0656s' u'0d03m48.2228s'\n",
      " u'0d04m16.8883s' u'0d02m00.93s' u'0d01m46.6346s' u'0d01m55.8179s'\n",
      " u'0d02m43.5635s' u'0d00m26.437s' u'0d02m18.0924s' u'0d03m14.4001s'\n",
      " u'0d02m50.4137s' u'0d00m00.1103s' u'0d01m36.0773s' u'0d00m32.2826s'\n",
      " u'0d02m37.9768s' u'0d03m11.9554s' u'0d01m28.9427s' u'0d04m29.1543s'\n",
      " u'0d00m56.1266s' u'0d01m53.6853s' u'0d00m30.5729s' u'0d00m14.9518s'\n",
      " u'0d00m00.1075s' u'0d01m03.823s' u'0d01m04.5927s' u'0d03m07.4948s'\n",
      " u'0d02m26.1357s' u'0d00m46.4296s' u'0d02m42.6918s' u'0d01m57.7738s'\n",
      " u'0d02m49.3112s' u'0d04m39.6536s' u'0d03m43.7489s' u'0d00m32.8223s'\n",
      " u'0d03m39.8315s' u'0d03m39.1181s' u'0d03m13.7524s' u'0d04m34.9694s'\n",
      " u'0d04m18.9798s' u'0d03m05.0234s' u'0d05m45.5515s' u'0d05m35.464s'\n",
      " u'0d04m06.1916s' u'0d05m49.4718s' u'0d00m36.3914s' u'0d02m20.0792s'\n",
      " u'0d03m02.993s' u'0d00m09.4431s' u'0d00m50.8748s' u'0d01m22.8165s'\n",
      " u'0d01m25.1358s' u'0d02m56.3064s' u'0d03m35.8776s' u'0d02m50.0099s'\n",
      " u'0d03m53.8653s' u'0d03m39.733s' u'0d03m19.6077s' u'0d01m52.6244s'\n",
      " u'0d01m56.9794s' u'0d01m10.6549s' u'0d00m42.3815s' u'0d01m35.0386s'\n",
      " u'0d02m24.6865s' u'0d01m04.2352s' u'0d00m00.048s' u'0d02m42.9747s'\n",
      " u'0d01m19.5569s' u'0d01m02.8931s' u'0d00m57.8299s' u'0d01m27.0038s'\n",
      " u'0d02m13.7549s' u'0d00m58.4138s' u'0d05m48.0506s' u'0d02m38.8588s'\n",
      " u'0d04m30.4948s' u'0d06m34.948s' u'0d04m45.7374s' u'0d02m11.7966s'\n",
      " u'0d00m45.5948s' u'0d01m54.8842s' u'0d03m18.7437s' u'0d05m32.5276s'\n",
      " u'0d05m01.7593s' u'0d06m26.4643s' u'0d05m12.8081s' u'0d01m59.4048s'\n",
      " u'0d06m59.7281s' u'0d03m15.5935s' u'0d03m33.096s' u'0d01m26.5804s'\n",
      " u'0d03m22.8555s' u'0d03m05.3242s' u'0d03m36.2282s' u'0d00m39.1553s'\n",
      " u'0d01m27.2497s' u'0d00m58.075s' u'0d02m29.3873s' u'0d01m09.1331s'\n",
      " u'0d00m38.543s' u'0d04m01.4251s' u'0d00m30.9546s' u'0d00m00.1651s'\n",
      " u'0d00m27.104s' u'0d00m40.7667s' u'0d02m20.1372s' u'0d00m30.8643s'\n",
      " u'0d00m00.0034s' u'0d05m39.5623s' u'0d05m35.9029s' u'0d04m30.4343s'\n",
      " u'0d04m39.9791s' u'0d01m00.5342s' u'0d00m32.7643s' u'0d00m00.0977s'\n",
      " u'0d00m00.0867s' u'0d01m30.5766s' u'0d00m08.7858s' u'0d02m48.4305s'\n",
      " u'0d00m41.7708s' u'0d01m38.3623s' u'0d02m54.7636s' u'0d02m03.5403s'\n",
      " u'0d01m36.9271s' u'0d02m28.6847s' u'0d02m24.0533s' u'0d02m29.3661s'\n",
      " u'0d01m07.9974s' u'0d01m04.8859s' u'0d00m04.5538s' u'0d00m53.7829s'\n",
      " u'0d03m13.4586s' u'0d02m57.6077s' u'0d03m05.5367s' u'0d02m24.1651s'\n",
      " u'0d01m58.6802s' u'0d02m24.1948s' u'0d01m44.5924s' u'0d01m16.3681s'\n",
      " u'0d01m41.7846s' u'0d00m37.3077s' u'0d04m02.4398s' u'0d02m47.0715s'\n",
      " u'0d01m37.8328s' u'0d02m28.1896s' u'0d02m29.2317s' u'0d02m40.1406s'\n",
      " u'0d01m38.0236s' u'0d00m26.2101s' u'0d00m33.3547s' u'0d02m57.1113s'\n",
      " u'0d03m39.434s' u'0d01m20.1607s' u'0d02m04.7251s' u'0d03m09.6099s'\n",
      " u'0d03m06.4677s' u'0d09m36.3236s' u'0d08m58.1521s' u'0d00m00.089s'\n",
      " u'0d02m39.7075s' u'0d00m11.0673s' u'0d03m14.2816s' u'0d01m53.6717s'\n",
      " u'0d01m38.3484s' u'0d03m19.4029s' u'0d03m13.4115s' u'0d01m29.8526s'\n",
      " u'0d00m21.6695s' u'0d03m13.1717s' u'0d05m43.6364s' u'0d05m23.8111s'\n",
      " u'0d01m38.7525s' u'0d06m28.5086s' u'0d06m25.2558s' u'0d06m54.0035s'\n",
      " u'0d06m13.6877s' u'0d02m12.9469s' u'0d01m49.6749s' u'0d01m52.9568s'\n",
      " u'0d00m53.8825s' u'0d00m45.8776s' u'0d02m09.9972s' u'0d00m59.5926s'\n",
      " u'0d00m34.9592s' u'0d00m28.9888s' u'0d02m13.0698s' u'0d05m01.2557s'\n",
      " u'0d03m51.5751s' u'0d06m38.0874s' u'0d01m24.3267s' u'0d00m39.654s'\n",
      " u'0d00m43.9278s' u'0d00m00.1169s' u'0d01m22.3374s' u'0d05m32.4011s'\n",
      " u'0d05m52.2603s' u'0d03m58.8112s' u'0d00m00.1448s' u'0d00m01.9026s'\n",
      " u'0d00m00.1328s' u'0d00m14.8776s' u'0d01m57.3656s' u'0d00m26.8288s'\n",
      " u'0d01m25.8486s' u'0d00m28.6622s' u'0d02m28.1762s' u'0d01m33.7261s'\n",
      " u'0d02m41.5113s' u'0d01m29.6141s' u'0d00m48.4833s' u'0d00m22.7804s'\n",
      " u'0d00m00.3111s' u'0d01m16.472s' u'0d00m20.3s' u'0d01m15.2426s'\n",
      " u'0d01m17.879s' u'0d01m29.3267s' u'0d04m29.7182s' u'0d02m09.0313s'\n",
      " u'0d00m10.7498s' u'0d01m57.5275s' u'0d00m37.6378s' u'0d02m44.7636s'\n",
      " u'0d01m02.2036s' u'0d09m29.2699s' u'0d00m27.1493s' u'0d03m17.1317s'\n",
      " u'0d03m08.0312s' u'0d03m40.5208s' u'0d00m49.802s' u'0d04m15.5523s'\n",
      " u'0d02m27.4326s' u'0d03m05.8277s' u'0d04m26.5346s' u'0d02m59.908s'\n",
      " u'0d02m46.1852s' u'0d01m24.205s' u'0d00m32.7227s' u'0d01m13.5227s'\n",
      " u'0d01m14.4428s' u'0d01m07.4599s' u'0d01m27.8476s' u'0d02m24.9617s'\n",
      " u'0d01m16.2213s' u'0d06m38.1918s' u'0d05m15.5845s' u'0d01m32.4808s'\n",
      " u'0d01m06.1237s' u'0d01m33.8005s' u'0d02m15.3429s' u'0d00m21.2541s'\n",
      " u'0d03m24.3927s' u'0d04m23.2959s' u'0d05m54.44s' u'0d07m00.6728s'\n",
      " u'0d02m43.3395s' u'0d02m39.4907s' u'0d00m00.0794s' u'0d06m55.7939s'\n",
      " u'0d05m41.5041s' u'0d02m00.6734s' u'0d03m36.0333s' u'0d02m43.0765s'\n",
      " u'0d03m28.8713s' u'0d07m53.6699s' u'0d02m53.1317s' u'0d01m58.3214s'\n",
      " u'0d00m24.9173s' u'0d01m25.5855s' u'0d09m07.9605s' u'0d02m06.1875s'\n",
      " u'0d04m29.6891s' u'0d00m09.1932s' u'0d00m13.8138s' u'0d00m58.5582s'\n",
      " u'0d03m19.8345s' u'0d02m00.8689s' u'0d01m47.2815s' u'0d02m01.1229s'\n",
      " u'0d01m34.4056s' u'0d00m31.7715s' u'0d00m00.1343s' u'0d01m00.5902s'\n",
      " u'0d00m16.8823s' u'0d02m23.0564s' u'0d00m04.5329s' u'0d00m51.403s'\n",
      " u'0d02m18.2791s' u'0d00m59.3564s' u'0d05m02.3454s' u'0d05m13.0175s'\n",
      " u'0d05m23.6993s' u'0d07m26.0237s' u'0d01m04.3971s' u'0d05m08.7239s'\n",
      " u'0d04m18.805s' u'0d03m38.9895s' u'0d02m32.9678s' u'0d00m00.1409s'\n",
      " u'0d02m54.6798s' u'0d01m46.2283s' u'0d03m38.2891s' u'0d01m07.4903s'\n",
      " u'0d02m18.0137s' u'0d01m58.5266s' u'0d00m56.6827s' u'0d00m36.9007s'\n",
      " u'0d00m00.3357s' u'0d08m11.9544s' u'0d05m42.8942s' u'0d02m21.8821s'\n",
      " u'0d03m36.5623s' u'0d05m21.7409s' u'0d03m24.6779s' u'0d00m00.0088s'\n",
      " u'0d04m13.5056s' u'0d00m49.9104s' u'0d01m29.7228s' u'0d01m09.7422s'\n",
      " u'0d00m28.9041s' u'0d05m33.5509s' u'0d02m02.8547s' u'0d01m16.1958s'\n",
      " u'0d02m36.1384s' u'0d01m44.2234s' u'0d02m18.9193s' u'0d01m47.2595s'\n",
      " u'0d02m54.9473s' u'0d00m29.9362s' u'0d01m02.9613s' u'0d00m39.1108s'\n",
      " u'0d00m44.5198s' u'0d02m17.6674s' u'0d04m55.3555s' u'0d04m07.26s'\n",
      " u'0d05m35.899s' u'0d01m09.3251s' u'0d02m42.2818s' u'0d06m53.8716s'\n",
      " u'0d07m17.9947s' u'0d01m34.8375s' u'0d00m45.5107s' u'0d01m18.7882s'\n",
      " u'0d02m20.5153s' u'0d00m47.7132s' u'0d01m39.6164s' u'0d03m36.723s'\n",
      " u'0d01m00.2588s' u'0d01m51.5041s' u'0d00m00.1169s' u'0d00m47.0878s'\n",
      " u'0d00m12.3895s' u'0d00m00.0945s' u'0d04m08.4679s' u'0d01m58.6024s'\n",
      " u'0d00m15.9488s' u'0d01m06.6681s' u'0d00m00.1954s' u'0d01m45.1623s'\n",
      " u'0d00m49.5914s' u'0d03m11.9194s' u'0d01m42.6915s' u'0d01m07.4713s'\n",
      " u'0d01m51.4549s' u'0d02m10.5929s' u'0d03m22.9976s' u'0d01m52.9677s'\n",
      " u'0d00m35.501s' u'0d03m02.5688s' u'0d02m29.5584s' u'0d02m46.9575s'\n",
      " u'0d02m41.3448s' u'0d01m58.7018s' u'0d02m52.1618s' u'0d02m22.1764s'\n",
      " u'0d02m12.8971s' u'0d05m19.4172s' u'0d02m34.1361s' u'0d00m00.0394s'\n",
      " u'0d01m49.2405s' u'0d02m30.461s' u'0d00m00.3129s' u'0d00m00.2436s'\n",
      " u'0d02m21.7152s' u'0d04m16.6393s' u'0d00m00.2772s' u'0d00m28.2613s'\n",
      " u'0d04m35.7327s' u'0d03m26.2211s' u'0d04m58.5372s' u'0d01m12.6046s'\n",
      " u'0d00m53.3151s' u'0d02m53.3144s' u'0d02m18.754s' u'0d02m39.4578s'\n",
      " u'0d00m00.1306s' u'0d01m51.7391s' u'0d06m58.69s' u'0d08m26.9272s'\n",
      " u'0d10m21.0711s' u'0d07m23.9578s' u'0d07m13.8341s' u'0d00m38.1306s'\n",
      " u'0d01m09.0078s' u'0d02m18.8395s' u'0d03m51.7301s' u'0d00m39.8241s'\n",
      " u'0d00m00.2393s' u'0d01m51.6145s' u'0d00m07.8647s' u'0d02m15.1558s'\n",
      " u'0d03m13.1589s' u'0d00m56.7902s' u'0d05m11.4676s' u'0d06m02.4175s'\n",
      " u'0d04m59.7884s' u'0d05m35.0411s' u'0d03m54.2008s' u'0d00m00.3444s'\n",
      " u'0d02m19.0475s' u'0d01m53.6118s' u'0d01m00.5365s' u'0d03m42.7328s'\n",
      " u'0d00m39.6415s' u'0d06m31.5891s' u'0d02m47.6088s' u'0d02m35.9869s'\n",
      " u'0d05m51.5198s' u'0d01m32.4163s' u'0d03m13.1822s' u'0d05m32.8585s'\n",
      " u'0d05m19.7617s' u'0d02m23.7431s' u'0d03m42.4381s' u'0d03m53.3093s'\n",
      " u'0d05m36.326s' u'0d03m46.8697s' u'0d04m50.9618s' u'0d00m09.9223s'\n",
      " u'0d01m14.4665s' u'0d01m50.4664s' u'0d01m42.9178s' u'0d00m14.658s'\n",
      " u'0d00m12.0762s' u'0d01m00.654s' u'0d01m49.6589s' u'0d00m09.9692s'\n",
      " u'0d01m22.2923s' u'0d02m39.2899s']\n"
     ]
    }
   ],
   "source": [
    "print d2d"
   ]
  },
  {
   "cell_type": "markdown",
   "metadata": {},
   "source": [
    "plot separation..."
   ]
  },
  {
   "cell_type": "code",
   "execution_count": 17,
   "metadata": {},
   "outputs": [
    {
     "data": {
      "text/plain": [
       "<matplotlib.text.Text at 0x113d947d0>"
      ]
     },
     "execution_count": 17,
     "metadata": {},
     "output_type": "execute_result"
    },
    {
     "data": {
      "image/png": "[encoded data removed]",
      "text/plain": [
       "<matplotlib.figure.Figure at 0x111776d90>"
      ]
     },
     "metadata": {},
     "output_type": "display_data"
    }
   ],
   "source": [
    "plt.figure(figsize=(14,8))\n",
    "plt.plot( idx, d2d, 'b.' )\n",
    "plt.xlabel( \"Index number\")\n",
    "plt.ylabel( \"Dist to closest target in other catalog [deg]\")"
   ]
  },
  {
   "cell_type": "markdown",
   "metadata": {},
   "source": [
    "## select matches that agree within an arcsec"
   ]
  },
  {
   "cell_type": "code",
   "execution_count": 18,
   "metadata": {
    "collapsed": true
   },
   "outputs": [],
   "source": [
    "max_separation = 1.0*u.arcsec\n",
    "buf = np.where( d2d < max_separation)\n",
    "good = buf[0]"
   ]
  },
  {
   "cell_type": "code",
   "execution_count": 19,
   "metadata": {},
   "outputs": [
    {
     "data": {
      "text/plain": [
       "<matplotlib.text.Text at 0x113e58790>"
      ]
     },
     "execution_count": 19,
     "metadata": {},
     "output_type": "execute_result"
    },
    {
     "data": {
      "image/png": "[encoded data removed]",
      "text/plain": [
       "<matplotlib.figure.Figure at 0x113b50d10>"
      ]
     },
     "metadata": {},
     "output_type": "display_data"
    }
   ],
   "source": [
    "plt.figure(figsize=(14,8))\n",
    "plt.plot( idx[good], d2d[good], 'g.' )\n",
    "plt.xlabel( \"Index number\")\n",
    "plt.ylabel( \"Dist to closest target in other catalog [deg]\")"
   ]
  },
  {
   "cell_type": "code",
   "execution_count": 20,
   "metadata": {
    "collapsed": true
   },
   "outputs": [],
   "source": [
    "good_idx = idx[good]\n",
    "cosmos_match = cosmos_good[good_idx]"
   ]
  },
  {
   "cell_type": "code",
   "execution_count": 21,
   "metadata": {},
   "outputs": [
    {
     "data": {
      "text/plain": [
       "<matplotlib.text.Text at 0x113ec7150>"
      ]
     },
     "execution_count": 21,
     "metadata": {},
     "output_type": "execute_result"
    },
    {
     "data": {
      "image/png": "[encoded data removed]",
      "text/plain": [
       "<matplotlib.figure.Figure at 0x113ef54d0>"
      ]
     },
     "metadata": {},
     "output_type": "display_data"
    }
   ],
   "source": [
    "plt.figure(figsize=(14,8))\n",
    "plt.plot( cosmos_match['ra'], cosmos_match['dec'], 'b.' )\n",
    "plt.xlabel( \"RA [deg]\")\n",
    "plt.ylabel( \"Dec [deg]\")"
   ]
  },
  {
   "cell_type": "code",
   "execution_count": 22,
   "metadata": {},
   "outputs": [
    {
     "data": {
      "text/plain": [
       "<matplotlib.text.Text at 0x113e711d0>"
      ]
     },
     "execution_count": 22,
     "metadata": {},
     "output_type": "execute_result"
    },
    {
     "data": {
      "image/png": "[encoded data removed]",
      "text/plain": [
       "<matplotlib.figure.Figure at 0x113fb3850>"
      ]
     },
     "metadata": {},
     "output_type": "display_data"
    }
   ],
   "source": [
    "plt.figure(figsize=(14,8))\n",
    "plt.plot( cosmos_match['imag'], cosmos_match['zspec'], 'b.' )\n",
    "plt.xlabel( \"I [mag]\")\n",
    "plt.ylabel( \"Redshift\")"
   ]
  },
  {
   "cell_type": "code",
   "execution_count": 23,
   "metadata": {},
   "outputs": [
    {
     "name": "stdout",
     "output_type": "stream",
     "text": [
      "36\n"
     ]
    }
   ],
   "source": [
    "print len(good_idx)"
   ]
  },
  {
   "cell_type": "code",
   "execution_count": 25,
   "metadata": {},
   "outputs": [
    {
     "name": "stdout",
     "output_type": "stream",
     "text": [
      "   ID        ra        dec    ... Qflag  Q               Remarks             \n",
      "------- ----------- --------- ... ----- --- ---------------------------------\n",
      "L909134     149.974 2.6793056 ...     4 2.0                                --\n",
      "L893286 150.0529633  2.652806 ...     4 2.0 [OII],H+K,G,Hg,Hb,[OIII]d,MgI,NaI\n",
      "L918923   149.95842 2.6938056 ...     4 2.0                                --\n",
      "L929816   150.05183 2.7106111 ...     4 2.0                                --\n",
      "L887280   150.17596 2.6441944 ...     4 2.0                                --\n",
      "L826915 149.6284943 2.5494859 ...     4 2.0               [OII]d,K,Hb,[OIII]d\n",
      "L781921   150.39238  2.484446 ...     4 2.0     [OII],Hb,[OIII]d,Ha,NIId,SIId\n",
      "L771225    150.5582  2.466155 ...     4 2.0         [OII],K,Hg,HB,[OIII]d,MgI\n",
      "L739107 150.1853333 2.4203056 ...     4 2.0         [OII],H+K,G,Hg,Hb,[OIII]d\n",
      "L731281   150.45803  2.407421 ...     4 2.0                  [OII],Hb,[OIII]d\n",
      "    ...         ...       ... ...   ... ...                               ...\n",
      "L690630  150.421112  2.344046 ...     4 2.0              [OII],H+K,Hb,[OIII]d\n",
      "L434974 150.0217896  1.954397 ...     4 2.0                          H,[OIII]\n",
      "L414173 150.2077484 1.9214722 ...     4 2.0         [OII],K,Hg,Hb,[OIII]d,MgI\n",
      "L381157 150.3367462 1.8693056 ...     4 2.0                        Hb,[OIII]d\n",
      "L483602 150.3463745     2.033 ...     4 2.0                  [OII],Hb,[OIII]d\n",
      "L358717 150.2758026 1.8344166 ...     4 2.0                 Hg,Hb,[OIII]d,NaI\n",
      "L396357 150.4435883 1.8918612 ...     4 2.0             [OII],K,Hg,Hb,[OIII]d\n",
      "L884802 149.8076782 2.6413612 ...     4 2.0                         Hb,Ha,NII\n",
      "L816590 150.3626404 2.5383611 ...     4 2.0                  [OII],Hb,[OIII]d\n",
      "L691180 150.1922083 2.3459167 ...     4 2.0       [OII]d,H+K,G,Hb,[OIII]d,NaI\n",
      "L597767   150.10143 2.2067923 ...     4 2.0                     Hg,Hb,[OIII]d\n",
      "Length = 36 rows\n"
     ]
    }
   ],
   "source": [
    "print cosmos_match"
   ]
  },
  {
   "cell_type": "code",
   "execution_count": null,
   "metadata": {
    "collapsed": true
   },
   "outputs": [],
   "source": []
  }
 ],
 "metadata": {
  "kernelspec": {
   "display_name": "Python 2",
   "language": "python",
   "name": "python2"
  },
  "language_info": {
   "codemirror_mode": {
    "name": "ipython",
    "version": 2
   },
   "file_extension": ".py",
   "mimetype": "text/x-python",
   "name": "python",
   "nbconvert_exporter": "python",
   "pygments_lexer": "ipython2",
   "version": "2.7.13"
  }
 },
 "nbformat": 4,
 "nbformat_minor": 2
}
